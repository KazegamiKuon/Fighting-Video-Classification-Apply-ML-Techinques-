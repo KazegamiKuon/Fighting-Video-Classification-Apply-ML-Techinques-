{
 "metadata": {
  "language_info": {
   "codemirror_mode": {
    "name": "ipython",
    "version": 3
   },
   "file_extension": ".py",
   "mimetype": "text/x-python",
   "name": "python",
   "nbconvert_exporter": "python",
   "pygments_lexer": "ipython3",
   "version": "3.8.5-final"
  },
  "orig_nbformat": 2,
  "kernelspec": {
   "name": "python3",
   "display_name": "Python 3",
   "language": "python"
  }
 },
 "nbformat": 4,
 "nbformat_minor": 2,
 "cells": [
  {
   "cell_type": "code",
   "execution_count": 1,
   "metadata": {},
   "outputs": [],
   "source": [
    "import numpy as np\n",
    "import cv2\n",
    "import multiprocessing\n",
    "import matplotlib.pyplot as plt\n",
    "import time\n",
    "from my_args import MyArgs\n",
    "from video_extracter import VideoExtracter\n",
    "import pickle"
   ]
  },
  {
   "cell_type": "code",
   "execution_count": 23,
   "metadata": {},
   "outputs": [],
   "source": []
  },
  {
   "cell_type": "code",
   "execution_count": 2,
   "metadata": {},
   "outputs": [],
   "source": [
    "def get_output_dim(size, h, w):\n",
    "        if isinstance(size, tuple) and len(size) == 2:\n",
    "            return size\n",
    "        elif h >= w:\n",
    "            return int(h * size / w), size\n",
    "        else:\n",
    "            return size, int(w *size / h)"
   ]
  },
  {
   "cell_type": "code",
   "execution_count": 3,
   "metadata": {},
   "outputs": [],
   "source": [
    "args = MyArgs(model_type='3d',batch_size = 10,framerate=30,scale_time=2)"
   ]
  },
  {
   "cell_type": "code",
   "execution_count": 4,
   "metadata": {},
   "outputs": [
    {
     "output_type": "stream",
     "name": "stdout",
     "text": [
      "Loading 3D-ResneXt-101 ...\n",
      "loaded\n"
     ]
    }
   ],
   "source": [
    "v_extracter = VideoExtracter(args)"
   ]
  },
  {
   "source": [
    "***"
   ],
   "cell_type": "markdown",
   "metadata": {}
  },
  {
   "cell_type": "code",
   "execution_count": 5,
   "metadata": {},
   "outputs": [],
   "source": [
    "def start_camera(model_type,time_split,v_extracter_,clf_):\n",
    "    cap = cv2.VideoCapture(0)\n",
    "    frame_rate = cap.get(cv2.CAP_PROP_FPS)\n",
    "    height = cap.get(cv2.CAP_PROP_FRAME_HEIGHT)\n",
    "    weight = cap.get(cv2.CAP_PROP_FRAME_WIDTH)\n",
    "    h, w = get_output_dim(112,height,weight)\n",
    "    delays = []\n",
    "    video = []    \n",
    "    warningflag = False\n",
    "    # while (countstop < frame_rate*5):\n",
    "    while True:\n",
    "        # Capture frame-by-frame\n",
    "        ret, frame = cap.read()        \n",
    "        # Our operations on the frame come here\n",
    "        if model_type == '3d':\n",
    "            vframe = cv2.resize(frame[:,::-1,:],(112,112),fx=0,fy=0, interpolation = cv2.INTER_AREA)\n",
    "        elif model_type == '2d':\n",
    "            vframe = cv2.resize(frame[:,::-1,:],(w,h),fx=0,fy=0, interpolation = cv2.INTER_AREA)\n",
    "        else:\n",
    "            print('Model type must be: 2d or 3d')\n",
    "            break        \n",
    "        video.append(vframe)\n",
    "        if len(video) == frame_rate * time_split:\n",
    "            temp = video.copy()\n",
    "            video.clear()\n",
    "            start = time.time()\n",
    "            feature = v_extracter_.predict(temp)            \n",
    "            pred = clf_.predict(feature.flatten().reshape(1,-1))\n",
    "            if pred == 1:\n",
    "                warningflag = True\n",
    "            else:\n",
    "                warningflag = False\n",
    "            end = time.time()\n",
    "            delays.append(end - start)\n",
    "        img = np.array(frame[:,::-1,:])        \n",
    "        if warningflag:\n",
    "            img = cv2.putText(img, 'Warnning: fighting detected', (20,30), cv2.FONT_HERSHEY_SIMPLEX , 0.5, (0,0,255), 1, cv2.LINE_AA)\n",
    "        # Display the resulting frame\n",
    "        cv2.imshow('Adaboost',img)\n",
    "        if cv2.waitKey(1) & 0xFF == ord('q'):\n",
    "            break\n",
    "\n",
    "    # When everything done, release the capture\n",
    "    cap.release()\n",
    "    cv2.destroyAllWindows()\n",
    "    return delays"
   ]
  },
  {
   "cell_type": "code",
   "execution_count": 6,
   "metadata": {},
   "outputs": [],
   "source": [
    "# You change model's absolute path to your path\n",
    "clf_ada = pickle.load(open('./model_ml/model/01_adaboost.sav', 'rb'))"
   ]
  },
  {
   "cell_type": "code",
   "execution_count": 1,
   "metadata": {},
   "outputs": [],
   "source": [
    "delays = start_camera('3d',args.scale_time,v_extracter,clf_ada)"
   ]
  },
  {
   "cell_type": "code",
   "execution_count": null,
   "metadata": {},
   "outputs": [],
   "source": [
    "np.mean(delays)"
   ]
  }
 ]
}