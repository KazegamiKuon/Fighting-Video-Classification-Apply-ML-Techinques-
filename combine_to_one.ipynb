{
 "metadata": {
  "language_info": {
   "codemirror_mode": {
    "name": "ipython",
    "version": 3
   },
   "file_extension": ".py",
   "mimetype": "text/x-python",
   "name": "python",
   "nbconvert_exporter": "python",
   "pygments_lexer": "ipython3",
   "version": "3.8.5-final"
  },
  "orig_nbformat": 2,
  "kernelspec": {
   "name": "python3",
   "display_name": "Python 3",
   "language": "python"
  }
 },
 "nbformat": 4,
 "nbformat_minor": 2,
 "cells": [
  {
   "source": [
    "This file has the function of merging the data of each directory at the same level with this file into a file which the same name as the directory where data was taken."
   ],
   "cell_type": "markdown",
   "metadata": {}
  },
  {
   "cell_type": "code",
   "execution_count": 1,
   "metadata": {},
   "outputs": [],
   "source": [
    "import numpy as np\n",
    "import pandas as pd\n",
    "import os"
   ]
  },
  {
   "cell_type": "code",
   "execution_count": 2,
   "metadata": {},
   "outputs": [],
   "source": [
    "prop_names = np.array(os.listdir())\n",
    "prop_names = prop_names[[os.path.isdir(prop_name) for prop_name in prop_names]]\n",
    "for name in prop_names:\n",
    "    file_paths = np.array(os.listdir(name))\n",
    "    data = []\n",
    "    for file_path in file_paths:\n",
    "        path = os.path.join(name,file_path)\n",
    "        data.append(np.load(path))\n",
    "    data = np.array(data)\n",
    "    np.save(name+'.npy',data)"
   ]
  },
  {
   "cell_type": "code",
   "execution_count": null,
   "metadata": {},
   "outputs": [],
   "source": []
  }
 ]
}