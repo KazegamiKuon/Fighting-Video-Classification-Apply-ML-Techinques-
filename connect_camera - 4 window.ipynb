{
 "metadata": {
  "language_info": {
   "codemirror_mode": {
    "name": "ipython",
    "version": 3
   },
   "file_extension": ".py",
   "mimetype": "text/x-python",
   "name": "python",
   "nbconvert_exporter": "python",
   "pygments_lexer": "ipython3",
   "version": "3.8.5-final"
  },
  "orig_nbformat": 2,
  "kernelspec": {
   "name": "python3",
   "display_name": "Python 3",
   "language": "python"
  }
 },
 "nbformat": 4,
 "nbformat_minor": 2,
 "cells": [
  {
   "cell_type": "code",
   "execution_count": 1,
   "metadata": {},
   "outputs": [],
   "source": [
    "import numpy as np\n",
    "import cv2\n",
    "import multiprocessing\n",
    "import matplotlib.pyplot as plt\n",
    "import time\n",
    "from my_args import MyArgs\n",
    "from video_extracter import VideoExtracter\n",
    "import pickle"
   ]
  },
  {
   "cell_type": "code",
   "execution_count": 2,
   "metadata": {},
   "outputs": [],
   "source": [
    "def get_output_dim(size, h, w):\n",
    "        if isinstance(size, tuple) and len(size) == 2:\n",
    "            return size\n",
    "        elif h >= w:\n",
    "            return int(h * size / w), size\n",
    "        else:\n",
    "            return size, int(w *size / h)"
   ]
  },
  {
   "cell_type": "code",
   "execution_count": 3,
   "metadata": {},
   "outputs": [],
   "source": [
    "args = MyArgs(model_type='3d',batch_size = 10,framerate=30,scale_time=2)"
   ]
  },
  {
   "cell_type": "code",
   "execution_count": 4,
   "metadata": {},
   "outputs": [
    {
     "output_type": "stream",
     "name": "stdout",
     "text": [
      "Loading 3D-ResneXt-101 ...\n",
      "loaded\n"
     ]
    }
   ],
   "source": [
    "v_extracter = VideoExtracter(args)"
   ]
  },
  {
   "source": [
    "***"
   ],
   "cell_type": "markdown",
   "metadata": {}
  },
  {
   "cell_type": "code",
   "execution_count": 5,
   "metadata": {},
   "outputs": [],
   "source": [
    "def start_camera(model_type,time_split,v_extracter_,clf_sknn,clf_knn,clf_svm,clf_ada):\n",
    "    cap = cv2.VideoCapture(0)\n",
    "    frame_rate = cap.get(cv2.CAP_PROP_FPS)\n",
    "    height = cap.get(cv2.CAP_PROP_FRAME_HEIGHT)\n",
    "    weight = cap.get(cv2.CAP_PROP_FRAME_WIDTH)\n",
    "    h, w = get_output_dim(112,height,weight)\n",
    "    delays = []\n",
    "    video = []\n",
    "    warningflag_sknn = False\n",
    "    warningflag_knn = False\n",
    "    warningflag_svm = False\n",
    "    warningflag_ada = False\n",
    "    # while (countstop < frame_rate*5):\n",
    "    while True:\n",
    "        # Capture frame-by-frame\n",
    "        ret, frame = cap.read()        \n",
    "        # Our operations on the frame come here\n",
    "        if model_type == '3d':\n",
    "            vframe = cv2.resize(frame[:,::-1,:],(112,112),fx=0,fy=0, interpolation = cv2.INTER_AREA)\n",
    "        elif model_type == '2d':\n",
    "            vframe = cv2.resize(frame[:,::-1,:],(w,h),fx=0,fy=0, interpolation = cv2.INTER_AREA)\n",
    "        else:\n",
    "            print('Model type must be: 2d or 3d')\n",
    "            break        \n",
    "        video.append(vframe)\n",
    "        if len(video) == frame_rate * time_split:\n",
    "            temp = video.copy()\n",
    "            video.clear()\n",
    "            start = time.time()\n",
    "            feature = v_extracter_.predict(temp)\n",
    "            feature = feature.flatten().reshape(1,-1)\n",
    "            pred_sknn = clf_sknn.predict(feature)\n",
    "            pred_knn = clf_knn.predict(feature)\n",
    "            pred_svm = clf_svm.predict(feature)\n",
    "            pred_ada = clf_ada.predict(feature)\n",
    "            if pred_sknn == 1:\n",
    "                warningflag_sknn = True\n",
    "            else:\n",
    "                warningflag_sknn = False\n",
    "            if pred_knn == 1:\n",
    "                warningflag_knn = True\n",
    "            else:\n",
    "                warningflag_knn = False\n",
    "            if pred_svm == 1:\n",
    "                warningflag_svm = True\n",
    "            else:\n",
    "                warningflag_svm = False\n",
    "            if pred_ada == 1:\n",
    "                warningflag_ada = True\n",
    "            else:\n",
    "                warningflag_ada = False\n",
    "            end = time.time()\n",
    "            delays.append(end - start)\n",
    "        img_sknn = np.array(frame[:,::-1,:])\n",
    "        img_knn = np.array(frame[:,::-1,:])\n",
    "        img_svm = np.array(frame[:,::-1,:])\n",
    "        img_ada = np.array(frame[:,::-1,:])\n",
    "        if warningflag_sknn:\n",
    "            img_sknn = cv2.putText(img_sknn, 'Warnning: fighting detected', (20,30), cv2.FONT_HERSHEY_SIMPLEX , 0.5, (0,0,255), 1, cv2.LINE_AA)\n",
    "        if warningflag_knn:\n",
    "            img_knn = cv2.putText(img_knn, 'Warnning: fighting detected', (20,30), cv2.FONT_HERSHEY_SIMPLEX , 0.5, (0,0,255), 1, cv2.LINE_AA)\n",
    "        if warningflag_svm:\n",
    "            img_svm = cv2.putText(img_svm, 'Warnning: fighting detected', (20,30), cv2.FONT_HERSHEY_SIMPLEX , 0.5, (0,0,255), 1, cv2.LINE_AA)\n",
    "        if warningflag_ada:\n",
    "            img_ada = cv2.putText(img_ada, 'Warnning: fighting detected', (20,30), cv2.FONT_HERSHEY_SIMPLEX , 0.5, (0,0,255), 1, cv2.LINE_AA)\n",
    "        # Display the resulting frame\n",
    "        cv2.imshow('Smote KNN',img_sknn)\n",
    "        cv2.imshow('KNN',img_knn)\n",
    "        cv2.imshow('SVM Poly',img_svm)\n",
    "        cv2.imshow('Adaboost',img_ada)\n",
    "        if cv2.waitKey(1) & 0xFF == ord('q'):\n",
    "            break\n",
    "    # When everything done, release the capture\n",
    "    cap.release()\n",
    "    cv2.destroyAllWindows()\n",
    "    return delays"
   ]
  },
  {
   "cell_type": "code",
   "execution_count": 6,
   "metadata": {},
   "outputs": [],
   "source": [
    "# You change model's absolute path to your path\n",
    "clf_sknn = pickle.load(open('./model_ml/model_with_smote/smote_01_knn_n17.sav','rb'))\n",
    "clf_knn = pickle.load(open('./model_ml/model/01_knn_n17.sav', 'rb'))\n",
    "clf_svm = pickle.load(open('./model_ml/model/01_svm_poly.sav', 'rb'))\n",
    "clf_ada = pickle.load(open('./model_ml/model/01_adaboost.sav', 'rb'))"
   ]
  },
  {
   "cell_type": "code",
   "execution_count": 7,
   "metadata": {},
   "outputs": [],
   "source": [
    "delays = start_camera('3d',args.scale_time,v_extracter,clf_sknn,clf_knn,clf_svm,clf_ada)"
   ]
  },
  {
   "cell_type": "code",
   "execution_count": 18,
   "metadata": {},
   "outputs": [],
   "source": [
    "#delays"
   ]
  },
  {
   "cell_type": "code",
   "execution_count": 9,
   "metadata": {},
   "outputs": [
    {
     "output_type": "execute_result",
     "data": {
      "text/plain": [
       "0.21478606933771177"
      ]
     },
     "metadata": {},
     "execution_count": 9
    }
   ],
   "source": [
    "np.mean(delays[1:])"
   ]
  },
  {
   "cell_type": "code",
   "execution_count": null,
   "metadata": {},
   "outputs": [],
   "source": []
  }
 ]
}